{
 "cells": [
  {
   "cell_type": "code",
   "execution_count": 16,
   "id": "69d03255-8b61-403b-a742-34df870047f7",
   "metadata": {},
   "outputs": [],
   "source": [
    "from joblib import dump\n",
    "from clumper import Clumper\n",
    "\n",
    "from sklearn.pipeline import make_pipeline\n",
    "from sklearn.feature_extraction.text import CountVectorizer, TfidfVectorizer\n",
    "from sklearn.linear_model import LogisticRegression"
   ]
  },
  {
   "cell_type": "code",
   "execution_count": 17,
   "id": "66285cdf-66fc-4f16-a033-cbc0d623377e",
   "metadata": {},
   "outputs": [],
   "source": [
    "pipe_cv = make_pipeline(CountVectorizer(), LogisticRegression())\n",
    "pipe_tfidf = make_pipeline(TfidfVectorizer(), LogisticRegression())\n",
    "\n",
    "train_set = Clumper.read_jsonl(\"assets/docs_issues_training.jsonl\").collect()\n",
    "X = [_[\"text\"] for _ in train_set]\n",
    "y = [_[\"label\"] for _ in train_set]\n",
    "\n",
    "pipe_cv.fit(X, y)\n",
    "\n",
    "pipe_tfidf.fit(X, y)\n",
    "\n",
    "dump(pipe_cv, 'pipe_cv.joblib')\n",
    "console.log(\"Joblib pickle saved.\")\n",
    "\n",
    "dump(pipe_tfidf, 'pipe_tfidf.joblib')\n",
    "console.log(\"Joblib pickle saved.\")"
   ]
  },
  {
   "cell_type": "code",
   "execution_count": 18,
   "id": "e03d2d7a-d343-4882-8fd1-c0b295ae83d0",
   "metadata": {},
   "outputs": [],
   "source": [
    "import spacy"
   ]
  },
  {
   "cell_type": "code",
   "execution_count": 19,
   "id": "51949451-6d4b-46d8-9641-4b357641abc2",
   "metadata": {},
   "outputs": [
    {
     "data": {
      "text/plain": [
       "<spacy.lang.en.English at 0x7f8a861004f0>"
      ]
     },
     "execution_count": 19,
     "metadata": {},
     "output_type": "execute_result"
    }
   ],
   "source": [
    "spacy.load(\"training/bow/model-best/\")"
   ]
  },
  {
   "cell_type": "code",
   "execution_count": null,
   "id": "763d3ec0-0036-4eae-a824-bba542444d3e",
   "metadata": {},
   "outputs": [],
   "source": [
    "dump(pipe_tfidf, 'pipe_tfidf.joblib')\n",
    "console.log(\"Joblib pickle saved.\")"
   ]
  }
 ],
 "metadata": {
  "kernelspec": {
   "display_name": "Python 3 (ipykernel)",
   "language": "python",
   "name": "python3"
  },
  "language_info": {
   "codemirror_mode": {
    "name": "ipython",
    "version": 3
   },
   "file_extension": ".py",
   "mimetype": "text/x-python",
   "name": "python",
   "nbconvert_exporter": "python",
   "pygments_lexer": "ipython3",
   "version": "3.8.6"
  }
 },
 "nbformat": 4,
 "nbformat_minor": 5
}
